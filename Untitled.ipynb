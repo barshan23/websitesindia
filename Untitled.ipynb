{
 "cells": [
  {
   "cell_type": "code",
   "execution_count": 1,
   "metadata": {
    "collapsed": true
   },
   "outputs": [],
   "source": [
    "import requests"
   ]
  },
  {
   "cell_type": "code",
   "execution_count": 2,
   "metadata": {},
   "outputs": [
    {
     "data": {
      "text/plain": [
       "<Response [200]>"
      ]
     },
     "execution_count": 2,
     "metadata": {},
     "output_type": "execute_result"
    }
   ],
   "source": [
    "requests.get(\"https://graph.facebook.com/v3.1/transactbooks/feed?access_token=EAAKpTuo29L0BABb3SL1HMVeuC4vIZB3ZCjPzZBpijNUOFzjP52iqWXkXYTzvb092asJAUOUDZBcqZAOnBc9F0KqZAA4kyi2daYZBYTz6F3QDEhZB5gHovNuiKhJRZCRjZAZApGVL6P2wZAEHAmZBUxawu1xcyVnqJCr0ZAuy2QTy2BcG0E3kzILXnPwIDqCxvnriA5jTm6DCns8h5pygZDZD\")"
   ]
  },
  {
   "cell_type": "code",
   "execution_count": 3,
   "metadata": {
    "collapsed": true
   },
   "outputs": [],
   "source": [
    "res = requests.get(\"https://graph.facebook.com/v3.1/transactbooks/feed?access_token=EAAKpTuo29L0BABb3SL1HMVeuC4vIZB3ZCjPzZBpijNUOFzjP52iqWXkXYTzvb092asJAUOUDZBcqZAOnBc9F0KqZAA4kyi2daYZBYTz6F3QDEhZB5gHovNuiKhJRZCRjZAZApGVL6P2wZAEHAmZBUxawu1xcyVnqJCr0ZAuy2QTy2BcG0E3kzILXnPwIDqCxvnriA5jTm6DCns8h5pygZDZD\")"
   ]
  },
  {
   "cell_type": "code",
   "execution_count": 5,
   "metadata": {},
   "outputs": [
    {
     "data": {
      "text/plain": [
       "<Response [200]>"
      ]
     },
     "execution_count": 5,
     "metadata": {},
     "output_type": "execute_result"
    }
   ],
   "source": [
    "res"
   ]
  },
  {
   "cell_type": "code",
   "execution_count": 7,
   "metadata": {},
   "outputs": [
    {
     "data": {
      "text/plain": [
       "u'{\"data\":[{\"created_time\":\"2017-04-03T14:24:32+0000\",\"message\":\"Thank you guys for the support you all are providing us. Feel free to explore the site www.transactbooks.com and do register to our website. First 200 members will be our premium members and will receive exclusive offers. \\\\nIf you have any used or unused books do post free ads to our site and get your books sold easily in no-time.\",\"id\":\"481499455572603_496220724100476\"},{\"created_time\":\"2017-03-13T08:29:53+0000\",\"id\":\"481499455572603_481518422237373\"},{\"created_time\":\"2017-03-13T07:50:14+0000\",\"id\":\"481499455572603_481502925572256\"},{\"created_time\":\"2017-03-13T07:48:36+0000\",\"story\":\"TransactBooks updated their cover photo.\",\"id\":\"481499455572603_481502332238982\"},{\"created_time\":\"2017-03-13T07:44:48+0000\",\"story\":\"TransactBooks updated their profile picture.\",\"id\":\"481499455572603_481500218905860\"}],\"paging\":{\"cursors\":{\"before\":\"Q2c4U1pXNTBYM0YxWlhKNVgzTjBiM0o1WDJsa0R5UTBPREUwT1RrME5UVTFOekkyTURNNkxUTXdOVFV3TVRJd05qSTBOalEyT1RRNU1qTVBER0ZA3YVY5emRHOXllVjlwWkE4ZAk5EZA3hORGs1TkRVMU5UY3lOakF6WHpRNU5qSXlNRGN5TkRFd01EUTNOZAzhFZAEdsdFpRWlk0bHNnQVE9PQZDZD\",\"after\":\"Q2c4U1pXNTBYM0YxWlhKNVgzTjBiM0o1WDJsa0R5UTBPREUwT1RrME5UVTFOekkyTURNNkxUVTROakl4T1RVNE9ETXdNekV6T0RNNU56SVBER0ZA3YVY5emRHOXllVjlwWkE4ZAk5EZA3hORGs1TkRVMU5UY3lOakF6WHpRNE1UVXdNREl4T0Rrd05UZAzJNQThFZAEdsdFpRWll4azN3QVE9PQZDZD\"}}}'"
      ]
     },
     "execution_count": 7,
     "metadata": {},
     "output_type": "execute_result"
    }
   ],
   "source": [
    "res.text"
   ]
  },
  {
   "cell_type": "code",
   "execution_count": 8,
   "metadata": {
    "collapsed": true
   },
   "outputs": [],
   "source": [
    "res = requests.get(\"https://graph.facebook.com/v3.1/transactbooks/posts?access_token=EAAKpTuo29L0BABb3SL1HMVeuC4vIZB3ZCjPzZBpijNUOFzjP52iqWXkXYTzvb092asJAUOUDZBcqZAOnBc9F0KqZAA4kyi2daYZBYTz6F3QDEhZB5gHovNuiKhJRZCRjZAZApGVL6P2wZAEHAmZBUxawu1xcyVnqJCr0ZAuy2QTy2BcG0E3kzILXnPwIDqCxvnriA5jTm6DCns8h5pygZDZD\")"
   ]
  },
  {
   "cell_type": "code",
   "execution_count": 9,
   "metadata": {},
   "outputs": [
    {
     "data": {
      "text/plain": [
       "u'{\"data\":[{\"created_time\":\"2017-04-03T14:24:32+0000\",\"message\":\"Thank you guys for the support you all are providing us. Feel free to explore the site www.transactbooks.com and do register to our website. First 200 members will be our premium members and will receive exclusive offers. \\\\nIf you have any used or unused books do post free ads to our site and get your books sold easily in no-time.\",\"id\":\"481499455572603_496220724100476\"},{\"created_time\":\"2017-03-13T08:29:53+0000\",\"id\":\"481499455572603_481518422237373\"},{\"created_time\":\"2017-03-13T07:50:14+0000\",\"id\":\"481499455572603_481502925572256\"},{\"created_time\":\"2017-03-13T07:48:36+0000\",\"story\":\"TransactBooks updated their cover photo.\",\"id\":\"481499455572603_481502332238982\"},{\"created_time\":\"2017-03-13T07:44:48+0000\",\"story\":\"TransactBooks updated their profile picture.\",\"id\":\"481499455572603_481500218905860\"}],\"paging\":{\"cursors\":{\"before\":\"Q2c4U1pXNTBYM0YxWlhKNVgzTjBiM0o1WDJsa0R5UTBPREUwT1RrME5UVTFOekkyTURNNkxUTXdOVFV3TVRJd05qSTBOalEyT1RRNU1qTVBER0ZA3YVY5emRHOXllVjlwWkE4ZAk5EZA3hORGs1TkRVMU5UY3lOakF6WHpRNU5qSXlNRGN5TkRFd01EUTNOZAzhFZAEdsdFpRWlk0bHNnQVE9PQZDZD\",\"after\":\"Q2c4U1pXNTBYM0YxWlhKNVgzTjBiM0o1WDJsa0R5UTBPREUwT1RrME5UVTFOekkyTURNNkxUVTROakl4T1RVNE9ETXdNekV6T0RNNU56SVBER0ZA3YVY5emRHOXllVjlwWkE4ZAk5EZA3hORGs1TkRVMU5UY3lOakF6WHpRNE1UVXdNREl4T0Rrd05UZAzJNQThFZAEdsdFpRWll4azN3QVE9PQZDZD\"}}}'"
      ]
     },
     "execution_count": 9,
     "metadata": {},
     "output_type": "execute_result"
    }
   ],
   "source": [
    "res.text"
   ]
  },
  {
   "cell_type": "code",
   "execution_count": 10,
   "metadata": {
    "collapsed": true
   },
   "outputs": [],
   "source": [
    "res = requests.get(\"https://graph.facebook.com/v3.1/transactbooks/photos?fields=height,width,link&access_token=EAAKpTuo29L0BABb3SL1HMVeuC4vIZB3ZCjPzZBpijNUOFzjP52iqWXkXYTzvb092asJAUOUDZBcqZAOnBc9F0KqZAA4kyi2daYZBYTz6F3QDEhZB5gHovNuiKhJRZCRjZAZApGVL6P2wZAEHAmZBUxawu1xcyVnqJCr0ZAuy2QTy2BcG0E3kzILXnPwIDqCxvnriA5jTm6DCns8h5pygZDZD\")"
   ]
  },
  {
   "cell_type": "code",
   "execution_count": 11,
   "metadata": {},
   "outputs": [
    {
     "data": {
      "text/plain": [
       "u'{\"data\":[{\"height\":400,\"width\":400,\"link\":\"https:\\\\/\\\\/www.facebook.com\\\\/transactbooks\\\\/photos\\\\/a.481499968905885\\\\/481499972239218\\\\/?type=3\",\"id\":\"481499972239218\"}],\"paging\":{\"cursors\":{\"before\":\"NDgxNDk5OTcyMjM5MjE4\",\"after\":\"NDgxNDk5OTcyMjM5MjE4\"}}}'"
      ]
     },
     "execution_count": 11,
     "metadata": {},
     "output_type": "execute_result"
    }
   ],
   "source": [
    "res.text"
   ]
  },
  {
   "cell_type": "code",
   "execution_count": 12,
   "metadata": {
    "collapsed": true
   },
   "outputs": [],
   "source": [
    "import sqlite3"
   ]
  },
  {
   "cell_type": "code",
   "execution_count": 13,
   "metadata": {
    "collapsed": true
   },
   "outputs": [],
   "source": [
    "conn = sqlite3.connect('example.db')"
   ]
  },
  {
   "cell_type": "code",
   "execution_count": 14,
   "metadata": {
    "collapsed": true
   },
   "outputs": [],
   "source": [
    "c = conn.cursor()"
   ]
  },
  {
   "cell_type": "code",
   "execution_count": 15,
   "metadata": {},
   "outputs": [
    {
     "data": {
      "text/plain": [
       "<sqlite3.Cursor at 0x7f6894af6570>"
      ]
     },
     "execution_count": 15,
     "metadata": {},
     "output_type": "execute_result"
    }
   ],
   "source": [
    "c.execute('''CREATE TABLE stocks\n",
    "             (date text, trans text, symbol text, qty real, price real)''')"
   ]
  },
  {
   "cell_type": "code",
   "execution_count": 16,
   "metadata": {},
   "outputs": [
    {
     "data": {
      "text/plain": [
       "<sqlite3.Cursor at 0x7f6894af6570>"
      ]
     },
     "execution_count": 16,
     "metadata": {},
     "output_type": "execute_result"
    }
   ],
   "source": [
    "c.execute(\"INSERT INTO stocks VALUES ('2006-01-05','BUY','RHAT',100,35.14)\")"
   ]
  },
  {
   "cell_type": "code",
   "execution_count": 17,
   "metadata": {
    "collapsed": true
   },
   "outputs": [],
   "source": [
    "conn.commit()"
   ]
  },
  {
   "cell_type": "code",
   "execution_count": 19,
   "metadata": {},
   "outputs": [],
   "source": [
    "row= c.execute(\"SELECT * FROM stocks\")"
   ]
  },
  {
   "cell_type": "code",
   "execution_count": 20,
   "metadata": {},
   "outputs": [
    {
     "data": {
      "text/plain": [
       "<sqlite3.Cursor at 0x7f6894af6570>"
      ]
     },
     "execution_count": 20,
     "metadata": {},
     "output_type": "execute_result"
    }
   ],
   "source": [
    "row"
   ]
  },
  {
   "cell_type": "code",
   "execution_count": 21,
   "metadata": {},
   "outputs": [
    {
     "name": "stdout",
     "output_type": "stream",
     "text": [
      "(u'2006-01-05', u'BUY', u'RHAT', 100.0, 35.14)\n"
     ]
    }
   ],
   "source": [
    "for r in row:\n",
    "    print r"
   ]
  },
  {
   "cell_type": "code",
   "execution_count": null,
   "metadata": {
    "collapsed": true
   },
   "outputs": [],
   "source": []
  }
 ],
 "metadata": {
  "kernelspec": {
   "display_name": "Python 2",
   "language": "python",
   "name": "python2"
  },
  "language_info": {
   "codemirror_mode": {
    "name": "ipython",
    "version": 2
   },
   "file_extension": ".py",
   "mimetype": "text/x-python",
   "name": "python",
   "nbconvert_exporter": "python",
   "pygments_lexer": "ipython2",
   "version": "2.7.12"
  }
 },
 "nbformat": 4,
 "nbformat_minor": 2
}
